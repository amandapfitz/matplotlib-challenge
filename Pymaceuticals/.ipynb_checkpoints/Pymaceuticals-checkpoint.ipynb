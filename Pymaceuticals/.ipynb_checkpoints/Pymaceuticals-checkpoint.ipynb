{
 "cells": [
  {
   "cell_type": "code",
   "execution_count": 114,
   "metadata": {},
   "outputs": [],
   "source": [
    "import pandas as pd\n",
    "import matplotlib.pyplot as plt\n",
    "import numpy as np\n",
    "from scipy.stats import sem"
   ]
  },
  {
   "cell_type": "code",
   "execution_count": 115,
   "metadata": {},
   "outputs": [],
   "source": [
    "csvpath1 = \"../../../../../Desktop/GTATL201908DATA3/02 - Homework/05-Matplotlib/Instructions/Pymaceuticals/data/clinicaltrial_data.csv\"\n",
    "csvpath2 = \"../../../../../Desktop/GTATL201908DATA3/02 - Homework/05-Matplotlib/Instructions/Pymaceuticals/data/mouse_drug_data.csv\""
   ]
  },
  {
   "cell_type": "code",
   "execution_count": 116,
   "metadata": {},
   "outputs": [],
   "source": [
    "clinic_df = pd.read_csv(csvpath1)\n",
    "drug_df = pd.read_csv(csvpath2)"
   ]
  },
  {
   "cell_type": "code",
   "execution_count": 117,
   "metadata": {},
   "outputs": [
    {
     "data": {
      "text/html": [
       "<div>\n",
       "<style scoped>\n",
       "    .dataframe tbody tr th:only-of-type {\n",
       "        vertical-align: middle;\n",
       "    }\n",
       "\n",
       "    .dataframe tbody tr th {\n",
       "        vertical-align: top;\n",
       "    }\n",
       "\n",
       "    .dataframe thead th {\n",
       "        text-align: right;\n",
       "    }\n",
       "</style>\n",
       "<table border=\"1\" class=\"dataframe\">\n",
       "  <thead>\n",
       "    <tr style=\"text-align: right;\">\n",
       "      <th></th>\n",
       "      <th>Mouse ID</th>\n",
       "      <th>Timepoint</th>\n",
       "      <th>Tumor Volume (mm3)</th>\n",
       "      <th>Metastatic Sites</th>\n",
       "    </tr>\n",
       "  </thead>\n",
       "  <tbody>\n",
       "    <tr>\n",
       "      <th>0</th>\n",
       "      <td>b128</td>\n",
       "      <td>0</td>\n",
       "      <td>45.0</td>\n",
       "      <td>0</td>\n",
       "    </tr>\n",
       "    <tr>\n",
       "      <th>1</th>\n",
       "      <td>f932</td>\n",
       "      <td>0</td>\n",
       "      <td>45.0</td>\n",
       "      <td>0</td>\n",
       "    </tr>\n",
       "    <tr>\n",
       "      <th>2</th>\n",
       "      <td>g107</td>\n",
       "      <td>0</td>\n",
       "      <td>45.0</td>\n",
       "      <td>0</td>\n",
       "    </tr>\n",
       "    <tr>\n",
       "      <th>3</th>\n",
       "      <td>a457</td>\n",
       "      <td>0</td>\n",
       "      <td>45.0</td>\n",
       "      <td>0</td>\n",
       "    </tr>\n",
       "    <tr>\n",
       "      <th>4</th>\n",
       "      <td>c819</td>\n",
       "      <td>0</td>\n",
       "      <td>45.0</td>\n",
       "      <td>0</td>\n",
       "    </tr>\n",
       "  </tbody>\n",
       "</table>\n",
       "</div>"
      ],
      "text/plain": [
       "  Mouse ID  Timepoint  Tumor Volume (mm3)  Metastatic Sites\n",
       "0     b128          0                45.0                 0\n",
       "1     f932          0                45.0                 0\n",
       "2     g107          0                45.0                 0\n",
       "3     a457          0                45.0                 0\n",
       "4     c819          0                45.0                 0"
      ]
     },
     "execution_count": 117,
     "metadata": {},
     "output_type": "execute_result"
    }
   ],
   "source": [
    "clinic_df.head()"
   ]
  },
  {
   "cell_type": "code",
   "execution_count": 118,
   "metadata": {},
   "outputs": [
    {
     "data": {
      "text/html": [
       "<div>\n",
       "<style scoped>\n",
       "    .dataframe tbody tr th:only-of-type {\n",
       "        vertical-align: middle;\n",
       "    }\n",
       "\n",
       "    .dataframe tbody tr th {\n",
       "        vertical-align: top;\n",
       "    }\n",
       "\n",
       "    .dataframe thead th {\n",
       "        text-align: right;\n",
       "    }\n",
       "</style>\n",
       "<table border=\"1\" class=\"dataframe\">\n",
       "  <thead>\n",
       "    <tr style=\"text-align: right;\">\n",
       "      <th></th>\n",
       "      <th>Mouse ID</th>\n",
       "      <th>Drug</th>\n",
       "    </tr>\n",
       "  </thead>\n",
       "  <tbody>\n",
       "    <tr>\n",
       "      <th>0</th>\n",
       "      <td>f234</td>\n",
       "      <td>Stelasyn</td>\n",
       "    </tr>\n",
       "    <tr>\n",
       "      <th>1</th>\n",
       "      <td>x402</td>\n",
       "      <td>Stelasyn</td>\n",
       "    </tr>\n",
       "    <tr>\n",
       "      <th>2</th>\n",
       "      <td>a492</td>\n",
       "      <td>Stelasyn</td>\n",
       "    </tr>\n",
       "    <tr>\n",
       "      <th>3</th>\n",
       "      <td>w540</td>\n",
       "      <td>Stelasyn</td>\n",
       "    </tr>\n",
       "    <tr>\n",
       "      <th>4</th>\n",
       "      <td>v764</td>\n",
       "      <td>Stelasyn</td>\n",
       "    </tr>\n",
       "  </tbody>\n",
       "</table>\n",
       "</div>"
      ],
      "text/plain": [
       "  Mouse ID      Drug\n",
       "0     f234  Stelasyn\n",
       "1     x402  Stelasyn\n",
       "2     a492  Stelasyn\n",
       "3     w540  Stelasyn\n",
       "4     v764  Stelasyn"
      ]
     },
     "execution_count": 118,
     "metadata": {},
     "output_type": "execute_result"
    }
   ],
   "source": [
    "drug_df.head()"
   ]
  },
  {
   "cell_type": "code",
   "execution_count": 119,
   "metadata": {},
   "outputs": [
    {
     "data": {
      "text/html": [
       "<div>\n",
       "<style scoped>\n",
       "    .dataframe tbody tr th:only-of-type {\n",
       "        vertical-align: middle;\n",
       "    }\n",
       "\n",
       "    .dataframe tbody tr th {\n",
       "        vertical-align: top;\n",
       "    }\n",
       "\n",
       "    .dataframe thead th {\n",
       "        text-align: right;\n",
       "    }\n",
       "</style>\n",
       "<table border=\"1\" class=\"dataframe\">\n",
       "  <thead>\n",
       "    <tr style=\"text-align: right;\">\n",
       "      <th></th>\n",
       "      <th>Mouse ID</th>\n",
       "      <th>Drug</th>\n",
       "      <th>Timepoint</th>\n",
       "      <th>Tumor Volume (mm3)</th>\n",
       "      <th>Metastatic Sites</th>\n",
       "    </tr>\n",
       "  </thead>\n",
       "  <tbody>\n",
       "    <tr>\n",
       "      <th>0</th>\n",
       "      <td>f234</td>\n",
       "      <td>Stelasyn</td>\n",
       "      <td>0</td>\n",
       "      <td>45.000000</td>\n",
       "      <td>0</td>\n",
       "    </tr>\n",
       "    <tr>\n",
       "      <th>1</th>\n",
       "      <td>f234</td>\n",
       "      <td>Stelasyn</td>\n",
       "      <td>5</td>\n",
       "      <td>47.313491</td>\n",
       "      <td>0</td>\n",
       "    </tr>\n",
       "    <tr>\n",
       "      <th>2</th>\n",
       "      <td>f234</td>\n",
       "      <td>Stelasyn</td>\n",
       "      <td>10</td>\n",
       "      <td>47.904324</td>\n",
       "      <td>0</td>\n",
       "    </tr>\n",
       "    <tr>\n",
       "      <th>3</th>\n",
       "      <td>f234</td>\n",
       "      <td>Stelasyn</td>\n",
       "      <td>15</td>\n",
       "      <td>48.735197</td>\n",
       "      <td>1</td>\n",
       "    </tr>\n",
       "    <tr>\n",
       "      <th>4</th>\n",
       "      <td>f234</td>\n",
       "      <td>Stelasyn</td>\n",
       "      <td>20</td>\n",
       "      <td>51.112713</td>\n",
       "      <td>2</td>\n",
       "    </tr>\n",
       "  </tbody>\n",
       "</table>\n",
       "</div>"
      ],
      "text/plain": [
       "  Mouse ID      Drug  Timepoint  Tumor Volume (mm3)  Metastatic Sites\n",
       "0     f234  Stelasyn          0           45.000000                 0\n",
       "1     f234  Stelasyn          5           47.313491                 0\n",
       "2     f234  Stelasyn         10           47.904324                 0\n",
       "3     f234  Stelasyn         15           48.735197                 1\n",
       "4     f234  Stelasyn         20           51.112713                 2"
      ]
     },
     "execution_count": 119,
     "metadata": {},
     "output_type": "execute_result"
    }
   ],
   "source": [
    "combined_df = pd.merge(drug_df,clinic_df,on='Mouse ID')\n",
    "combined_df.head()"
   ]
  },
  {
   "cell_type": "code",
   "execution_count": 120,
   "metadata": {},
   "outputs": [
    {
     "data": {
      "text/plain": [
       "array(['Stelasyn', 'Propriva', 'Naftisol', 'Ketapril', 'Capomulin',\n",
       "       'Infubinol', 'Ceftamin', 'Zoniferol', 'Ramicane', 'Placebo'],\n",
       "      dtype=object)"
      ]
     },
     "execution_count": 120,
     "metadata": {},
     "output_type": "execute_result"
    }
   ],
   "source": [
    "drug_list = combined_df['Drug'].unique()\n",
    "drug_list"
   ]
  },
  {
   "cell_type": "code",
   "execution_count": 232,
   "metadata": {},
   "outputs": [
    {
     "name": "stdout",
     "output_type": "stream",
     "text": [
      "Drug       Timepoint\n",
      "Capomulin  0            0.000000\n",
      "           5            0.448593\n",
      "           10           0.702684\n",
      "           15           0.838617\n",
      "           20           0.909731\n",
      "                          ...   \n",
      "Zoniferol  25           0.602513\n",
      "           30           0.800043\n",
      "           35           0.881426\n",
      "           40           0.998515\n",
      "           45           1.003576\n",
      "Name: Tumor Volume (mm3), Length: 100, dtype: float64\n"
     ]
    }
   ],
   "source": [
    "tumor_size_df = combined_df.groupby(['Drug','Timepoint'])\n",
    "avg_tumor_size_l = tumor_size_df['Tumor Volume (mm3)'].mean()\n",
    "avg_tumor_size_df = pd.DataFrame(avg_tumor_size_l)\n",
    "#print(avg_tumor_size_df.head())\n",
    "\n",
    "sem_tumor_size_l = tumor_size_df['Tumor Volume (mm3)'].sem()\n",
    "print(sem_tumor_size_l)\n",
    "sem_tumor_size_df = pd.DataFrame(sem_tumor_size_l)\n",
    "#sem_tumor_size_df.head()\n",
    "#avg_tumor_size_reset = avg_tumor_size_df.reset_index('Timepoint')\n",
    "#avg_tumor_size_reset_df = avg_tumor_size_reset.groupby('Drug')\n",
    "# avg_tumor2_size_reset_df = avg_tumor_size_reset_df[]\n",
    "#avg_tumor_size_reset.head()"
   ]
  },
  {
   "cell_type": "code",
   "execution_count": 272,
   "metadata": {},
   "outputs": [
    {
     "name": "stdout",
     "output_type": "stream",
     "text": [
      "Drug       Capomulin   Ceftamin  Infubinol   Ketapril   Naftisol    Placebo  \\\n",
      "Timepoint                                                                     \n",
      "0          45.000000  45.000000  45.000000  45.000000  45.000000  45.000000   \n",
      "5          44.266086  46.503051  47.062001  47.389175  46.796098  47.125589   \n",
      "10         43.084291  48.285125  49.403909  49.582269  48.694210  49.423329   \n",
      "15         42.064317  50.094055  51.296397  52.399974  50.933018  51.359742   \n",
      "20         40.716325  52.157049  53.197691  54.920935  53.644087  54.364417   \n",
      "25         39.939528  54.287674  55.715252  57.678982  56.731968  57.482574   \n",
      "30         38.769339  56.769517  58.299397  60.994507  59.559509  59.809063   \n",
      "35         37.816839  58.827548  60.742461  63.371686  62.685087  62.420615   \n",
      "40         36.958001  61.467895  63.162824  66.068580  65.600754  65.052675   \n",
      "45         36.236114  64.132421  65.755562  70.662958  69.265506  68.084082   \n",
      "\n",
      "Drug        Propriva   Ramicane   Stelasyn  Zoniferol  \n",
      "Timepoint                                              \n",
      "0          45.000000  45.000000  45.000000  45.000000  \n",
      "5          47.248967  43.944859  47.527452  46.851818  \n",
      "10         49.101541  42.531957  49.463844  48.689881  \n",
      "15         51.067318  41.495061  51.529409  50.779059  \n",
      "20         53.346737  40.238325  54.067395  53.170334  \n",
      "25         55.504138  38.974300  56.166123  55.432935  \n",
      "30         58.196374  38.703137  59.826738  57.713531  \n",
      "35         60.350199  37.451996  62.440699  60.089372  \n",
      "40         63.045537  36.574081  65.356386  62.916692  \n",
      "45         66.258529  34.955595  68.438310  65.960888  \n"
     ]
    },
    {
     "data": {
      "text/html": [
       "<div>\n",
       "<style scoped>\n",
       "    .dataframe tbody tr th:only-of-type {\n",
       "        vertical-align: middle;\n",
       "    }\n",
       "\n",
       "    .dataframe tbody tr th {\n",
       "        vertical-align: top;\n",
       "    }\n",
       "\n",
       "    .dataframe thead th {\n",
       "        text-align: right;\n",
       "    }\n",
       "</style>\n",
       "<table border=\"1\" class=\"dataframe\">\n",
       "  <thead>\n",
       "    <tr style=\"text-align: right;\">\n",
       "      <th>Drug</th>\n",
       "      <th>Capomulin</th>\n",
       "      <th>Ceftamin</th>\n",
       "      <th>Infubinol</th>\n",
       "      <th>Ketapril</th>\n",
       "      <th>Naftisol</th>\n",
       "      <th>Placebo</th>\n",
       "      <th>Propriva</th>\n",
       "      <th>Ramicane</th>\n",
       "      <th>Stelasyn</th>\n",
       "      <th>Zoniferol</th>\n",
       "    </tr>\n",
       "    <tr>\n",
       "      <th>Timepoint</th>\n",
       "      <th></th>\n",
       "      <th></th>\n",
       "      <th></th>\n",
       "      <th></th>\n",
       "      <th></th>\n",
       "      <th></th>\n",
       "      <th></th>\n",
       "      <th></th>\n",
       "      <th></th>\n",
       "      <th></th>\n",
       "    </tr>\n",
       "  </thead>\n",
       "  <tbody>\n",
       "    <tr>\n",
       "      <th>0</th>\n",
       "      <td>0.000000</td>\n",
       "      <td>0.000000</td>\n",
       "      <td>0.000000</td>\n",
       "      <td>0.000000</td>\n",
       "      <td>0.000000</td>\n",
       "      <td>0.000000</td>\n",
       "      <td>0.000000</td>\n",
       "      <td>0.000000</td>\n",
       "      <td>0.000000</td>\n",
       "      <td>0.000000</td>\n",
       "    </tr>\n",
       "    <tr>\n",
       "      <th>5</th>\n",
       "      <td>0.448593</td>\n",
       "      <td>0.164505</td>\n",
       "      <td>0.235102</td>\n",
       "      <td>0.264819</td>\n",
       "      <td>0.202385</td>\n",
       "      <td>0.218091</td>\n",
       "      <td>0.231708</td>\n",
       "      <td>0.482955</td>\n",
       "      <td>0.239862</td>\n",
       "      <td>0.188950</td>\n",
       "    </tr>\n",
       "    <tr>\n",
       "      <th>10</th>\n",
       "      <td>0.702684</td>\n",
       "      <td>0.236144</td>\n",
       "      <td>0.282346</td>\n",
       "      <td>0.357421</td>\n",
       "      <td>0.319415</td>\n",
       "      <td>0.402064</td>\n",
       "      <td>0.376195</td>\n",
       "      <td>0.720225</td>\n",
       "      <td>0.433678</td>\n",
       "      <td>0.263949</td>\n",
       "    </tr>\n",
       "    <tr>\n",
       "      <th>15</th>\n",
       "      <td>0.838617</td>\n",
       "      <td>0.332053</td>\n",
       "      <td>0.357705</td>\n",
       "      <td>0.580268</td>\n",
       "      <td>0.444378</td>\n",
       "      <td>0.614461</td>\n",
       "      <td>0.466109</td>\n",
       "      <td>0.770432</td>\n",
       "      <td>0.493261</td>\n",
       "      <td>0.370544</td>\n",
       "    </tr>\n",
       "    <tr>\n",
       "      <th>20</th>\n",
       "      <td>0.909731</td>\n",
       "      <td>0.359482</td>\n",
       "      <td>0.476210</td>\n",
       "      <td>0.726484</td>\n",
       "      <td>0.595260</td>\n",
       "      <td>0.839609</td>\n",
       "      <td>0.555181</td>\n",
       "      <td>0.786199</td>\n",
       "      <td>0.621889</td>\n",
       "      <td>0.533182</td>\n",
       "    </tr>\n",
       "  </tbody>\n",
       "</table>\n",
       "</div>"
      ],
      "text/plain": [
       "Drug       Capomulin  Ceftamin  Infubinol  Ketapril  Naftisol   Placebo  \\\n",
       "Timepoint                                                                 \n",
       "0           0.000000  0.000000   0.000000  0.000000  0.000000  0.000000   \n",
       "5           0.448593  0.164505   0.235102  0.264819  0.202385  0.218091   \n",
       "10          0.702684  0.236144   0.282346  0.357421  0.319415  0.402064   \n",
       "15          0.838617  0.332053   0.357705  0.580268  0.444378  0.614461   \n",
       "20          0.909731  0.359482   0.476210  0.726484  0.595260  0.839609   \n",
       "\n",
       "Drug       Propriva  Ramicane  Stelasyn  Zoniferol  \n",
       "Timepoint                                           \n",
       "0          0.000000  0.000000  0.000000   0.000000  \n",
       "5          0.231708  0.482955  0.239862   0.188950  \n",
       "10         0.376195  0.720225  0.433678   0.263949  \n",
       "15         0.466109  0.770432  0.493261   0.370544  \n",
       "20         0.555181  0.786199  0.621889   0.533182  "
      ]
     },
     "execution_count": 272,
     "metadata": {},
     "output_type": "execute_result"
    }
   ],
   "source": [
    "new_avg_tumor_size_df=avg_tumor_size_df.reset_index('Timepoint')\n",
    "#print(new_avg_tumor_size_df.head())\n",
    "try_me = new_avg_tumor_size_df.reset_index('Drug')\n",
    "#print(try_me.head())\n",
    "try_me2 = try_me.pivot(index = 'Timepoint',columns = 'Drug',values = 'Tumor Volume (mm3)')\n",
    "print(try_me2)\n",
    "\n",
    "\n",
    "\n",
    "\n",
    "sem_try_me = new_avg_tumor_size_df['Tumor Volume (mm3)'].sem()\n",
    "#print(sem_try_me)\n",
    "\n",
    "new_sem_tumor_size_df = sem_tumor_size_df.reset_index('Timepoint')\n",
    "new_sem_tumor_size2_df = new_sem_tumor_size_df.reset_index('Drug')\n",
    "#print(new_sem_tumor_size2_df)\n",
    "\n",
    "try_me3 = new_sem_tumor_size2_df.pivot(index = 'Timepoint',columns = 'Drug',values = 'Tumor Volume (mm3)')\n",
    "try_me3.head()"
   ]
  },
  {
   "cell_type": "code",
   "execution_count": 266,
   "metadata": {},
   "outputs": [
    {
     "data": {
      "image/png": "[encoded data removed]",
      "text/plain": [
       "<Figure size 432x288 with 1 Axes>"
      ]
     },
     "metadata": {
      "needs_background": "light"
     },
     "output_type": "display_data"
    }
   ],
   "source": [
    "try_me2.plot(style='o')\n",
    "#standard_errors = [sem(s) for s in avg_tumor_size_df['Tumor Volume (mm3)']]\n",
    "# plt.errorbar(try_me['Timepoint'],try_me['Tumor Volume (mm3)'],yerr=standard_errors,fmt='o')\n",
    "plt.legend(bbox_to_anchor=(1.1, 1.05))\n",
    "\n",
    "plt.errorbar(try_me['Timepoint'],try_me['Tumor Volume (mm3)'],sem_tumor_size_df['Tumor Volume (mm3)'],fmt='|')\n",
    "\n",
    "plt.show()\n",
    "\n",
    "#fig, ax = plt.subplots()\n",
    "#plt.errorbar(try_me['Timepoint'],avg_tumor_size_l,standard_errors, fmt='o')"
   ]
  },
  {
   "cell_type": "code",
   "execution_count": null,
   "metadata": {},
   "outputs": [],
   "source": []
  },
  {
   "cell_type": "code",
   "execution_count": 268,
   "metadata": {},
   "outputs": [
    {
     "data": {
      "text/plain": [
       "<ErrorbarContainer object of 3 artists>"
      ]
     },
     "execution_count": 268,
     "metadata": {},
     "output_type": "execute_result"
    },
    {
     "data": {
      "image/png": "[encoded data removed]",
      "text/plain": [
       "<Figure size 432x288 with 1 Axes>"
      ]
     },
     "metadata": {
      "needs_background": "light"
     },
     "output_type": "display_data"
    }
   ],
   "source": [
    "plt.errorbar(try_me['Timepoint'],try_me['Tumor Volume (mm3)'],sem_tumor_size_df['Tumor Volume (mm3)'],fmt = 'o')"
   ]
  },
  {
   "cell_type": "code",
   "execution_count": 123,
   "metadata": {},
   "outputs": [],
   "source": [
    "capomulin_df = new_avg_tumor_size_df.loc['Capomulin',[\"Timepoint\",\"Tumor Volume (mm3)\"]]\n",
    "#print(capomulin_df)\n",
    "stelasyn_df = new_avg_tumor_size_df.loc['Stelasyn',[\"Timepoint\",\"Tumor Volume (mm3)\"]]\n",
    "propriva_df = new_avg_tumor_size_df.loc['Propriva',[\"Timepoint\",\"Tumor Volume (mm3)\"]]\n",
    "naftisol_df = new_avg_tumor_size_df.loc['Naftisol',[\"Timepoint\",\"Tumor Volume (mm3)\"]]\n",
    "ketapril_df = new_avg_tumor_size_df.loc['Ketapril',[\"Timepoint\",\"Tumor Volume (mm3)\"]]\n",
    "infubinol_df = new_avg_tumor_size_df.loc['Infubinol',[\"Timepoint\",\"Tumor Volume (mm3)\"]]\n",
    "ceftamin_df = new_avg_tumor_size_df.loc['Ceftamin',[\"Timepoint\",\"Tumor Volume (mm3)\"]]\n",
    "zoniferol_df = new_avg_tumor_size_df.loc['Zoniferol',[\"Timepoint\",\"Tumor Volume (mm3)\"]]\n",
    "ramicane_df = new_avg_tumor_size_df.loc['Ramicane',[\"Timepoint\",\"Tumor Volume (mm3)\"]]\n",
    "placebo_df = new_avg_tumor_size_df.loc['Placebo',[\"Timepoint\",\"Tumor Volume (mm3)\"]]"
   ]
  },
  {
   "cell_type": "code",
   "execution_count": 165,
   "metadata": {},
   "outputs": [],
   "source": [
    "# plt.plot(stelasyn_df['Timepoint'],stelasyn_df['Tumor Volume (mm3)'],marker = 'o', color='green', label=stelasyn_df['Drug'])\n",
    "# propriva_df.plot('Timepoint','Tumor Volume (mm3)',marker = 'o', color='blue')\n",
    "# naftisol_df = new_avg_tumor_size_df.loc['Naftisol',[\"Timepoint\",\"Tumor Volume (mm3)\"]]\n",
    "# ketapril_df = new_avg_tumor_size_df.loc['Ketapril',[\"Timepoint\",\"Tumor Volume (mm3)\"]]\n",
    "# infubinol_df = new_avg_tumor_size_df.loc['Infubinol',[\"Timepoint\",\"Tumor Volume (mm3)\"]]\n",
    "# ceftamin_df = new_avg_tumor_size_df.loc['Ceftamin',[\"Timepoint\",\"Tumor Volume (mm3)\"]]\n",
    "# zoniferol_df = new_avg_tumor_size_df.loc['Zoniferol',[\"Timepoint\",\"Tumor Volume (mm3)\"]]\n",
    "# ramicane_df = new_avg_tumor_size_df.loc['Ramicane',[\"Timepoint\",\"Tumor Volume (mm3)\"]]\n",
    "# placebo_df"
   ]
  },
  {
   "cell_type": "code",
   "execution_count": null,
   "metadata": {},
   "outputs": [],
   "source": []
  },
  {
   "cell_type": "code",
   "execution_count": null,
   "metadata": {},
   "outputs": [],
   "source": []
  }
 ],
 "metadata": {
  "kernelspec": {
   "display_name": "Python 3",
   "language": "python",
   "name": "python3"
  },
  "language_info": {
   "codemirror_mode": {
    "name": "ipython",
    "version": 3
   },
   "file_extension": ".py",
   "mimetype": "text/x-python",
   "name": "python",
   "nbconvert_exporter": "python",
   "pygments_lexer": "ipython3",
   "version": "3.7.3"
  }
 },
 "nbformat": 4,
 "nbformat_minor": 4
}
